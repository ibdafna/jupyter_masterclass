{
 "cells": [
  {
   "cell_type": "markdown",
   "metadata": {},
   "source": [
    "## Pandas First Steps\n",
    "\n",
    "### Install and Import\n",
    "\n",
    "Pandas can easily be installed via\n",
    "    \n",
    "`conda install pandas`  or  `pip install pandas`\n",
    "\n",
    "If you are using the `Binder` repertoir we prepared for you, or you created your \n",
    "own local intallation, pandas should already be installed.\n",
    "\n",
    "Now we usally import pandas using a shorter name just like below:"
   ]
  },
  {
   "cell_type": "code",
   "execution_count": null,
   "metadata": {},
   "outputs": [],
   "source": [
    "import pandas as pd"
   ]
  },
  {
   "cell_type": "markdown",
   "metadata": {},
   "source": [
    "### Series and DataFrames\n",
    "\n",
    "Series and DataFrames are the two primary components/ data structure of pandas.\n",
    "\n",
    "- A `Series` is a  a one-dimensional labeled array capable of holding any data type\n",
    "- A `DataFrame` is multi-dimensional table made up of a collection of `Series`"
   ]
  },
  {
   "cell_type": "markdown",
   "metadata": {},
   "source": [
    "![title](../../img/dataFrame.png)"
   ]
  },
  {
   "cell_type": "markdown",
   "metadata": {},
   "source": [
    "`DataFrames` and `Series` are quite similar in that many operations that you can do with one you can do with the other. (e.g. filling in null values or calculating the mean)"
   ]
  },
  {
   "cell_type": "code",
   "execution_count": null,
   "metadata": {},
   "outputs": [],
   "source": [
    "## How we incorporate data in JupyterLab\n",
    "\n",
    "#### 1. Creating manually your data \n",
    "\n",
    "You can manually create your data set by creating directly a `DataFrame` in python. There is many different way to do this. Example:"
   ]
  },
  {
   "cell_type": "code",
   "execution_count": null,
   "metadata": {},
   "outputs": [],
   "source": [
    "data = {\n",
    "    'pears' : [12, 34, 7, 6, 9],\n",
    "    'apple' : [32, 3, 54, 6, 24]\n",
    "}\n",
    "\n",
    "data_df = pd.DataFrame(data)\n",
    "data_df"
   ]
  },
  {
   "cell_type": "markdown",
   "metadata": {},
   "source": [
    "#### 2. Using a CSV file as your data source\n",
    "\n",
    "Here we are going use the a CSV file which cointain the list of TV shows and movies available on Netflix as of 2019."
   ]
  },
  {
   "cell_type": "code",
   "execution_count": null,
   "metadata": {},
   "outputs": [],
   "source": [
    "# Let's use pandas to access some data in a CSV file\n",
    "df_movies = pd.read_csv('../../data/titles.csv')"
   ]
  },
  {
   "cell_type": "markdown",
   "metadata": {},
   "source": [
    "#### 3. Using an Application Programming Interface (API)\n",
    "\n",
    "APIs within a program are set of standards which permit outside software systems to request information from the original program\n",
    "\n",
    "For this example we are going to use the free API of **finnhub.io**\n"
   ]
  },
  {
   "cell_type": "code",
   "execution_count": null,
   "metadata": {},
   "outputs": [],
   "source": [
    "# Looking at the api documentation and leveraging the data\n",
    "import requests\n",
    "r = requests.get('https://finnhub.io/api/v1/stock/metric?symbol=AAPL&metric=all&token=')\n",
    "df_stocks = r.json()"
   ]
  },
  {
   "cell_type": "markdown",
   "metadata": {},
   "source": [
    "#### 4. Using a JSON file as your data source\n",
    "*JSON* or JavaScript Object Notation is a open standard file format and data interchange format.\n",
    "JSON file uses human-readable text to store and transmit data ojetcs.\n",
    "These data objects consist of attribute-value pairs and data types. (Just like a dictionnary)\n",
    "\n",
    "Here is an example:\n",
    "    \n",
    "![title](../../img/json.png)\n"
   ]
  },
  {
   "cell_type": "code",
   "execution_count": null,
   "metadata": {},
   "outputs": [],
   "source": [
    "df_wines = pd.read_json('../../data/winemag-data-130k-v2.json')"
   ]
  },
  {
   "cell_type": "markdown",
   "metadata": {},
   "source": [
    "## Most important operations\n",
    "#### 1. Exploring your data"
   ]
  },
  {
   "cell_type": "code",
   "execution_count": null,
   "metadata": {},
   "outputs": [],
   "source": [
    "# Showing the first lines of the data\n",
    "#df_wines.head()"
   ]
  },
  {
   "cell_type": "code",
   "execution_count": null,
   "metadata": {},
   "outputs": [],
   "source": [
    "# Showing last lines of the data\n",
    "#df_wines.tail()"
   ]
  },
  {
   "cell_type": "markdown",
   "metadata": {},
   "source": [
    "#### 2. Informations on your data"
   ]
  },
  {
   "cell_type": "code",
   "execution_count": null,
   "metadata": {},
   "outputs": [],
   "source": [
    "# brief drescription of the data set\n",
    "#df_wines.shape"
   ]
  },
  {
   "cell_type": "code",
   "execution_count": null,
   "metadata": {},
   "outputs": [],
   "source": [
    "# provides some details about your data, \n",
    "# e.g : number of rows, number columns, number of non-null values,\n",
    "# data types, and memory usage\n",
    "#df_wines.info()"
   ]
  },
  {
   "cell_type": "code",
   "execution_count": null,
   "metadata": {},
   "outputs": [],
   "source": [
    "# Here we getting a summary of the distribution of continuous variables.\n",
    "#df_wines.describe()"
   ]
  },
  {
   "cell_type": "markdown",
   "metadata": {},
   "source": [
    "#### 4. Managing duplicate"
   ]
  },
  {
   "cell_type": "code",
   "execution_count": null,
   "metadata": {},
   "outputs": [],
   "source": [
    "# How are we handeling duplicates \n",
    "\n",
    "# First let's duplicate our data with append() \n",
    "#df_wines_dup = df_wines.append(df_wines)"
   ]
  },
  {
   "cell_type": "code",
   "execution_count": null,
   "metadata": {},
   "outputs": [],
   "source": [
    "#looking at the shape of the new dataframe\n",
    "#df_wines_dup.shape"
   ]
  },
  {
   "cell_type": "code",
   "execution_count": null,
   "metadata": {},
   "outputs": [],
   "source": [
    "# removing the duplicates.  \n",
    "#df = df_wines_dup.drop_duplicates()\n",
    "#df.shape"
   ]
  },
  {
   "cell_type": "code",
   "execution_count": null,
   "metadata": {},
   "outputs": [],
   "source": [
    "# more details on duplicates\n",
    "#df = df_wines_dup.drop_duplicates(keep=False)\n",
    "#df.shape"
   ]
  },
  {
   "cell_type": "markdown",
   "metadata": {},
   "source": [
    "#### 5. Columns and Index cleanup"
   ]
  },
  {
   "cell_type": "code",
   "execution_count": null,
   "metadata": {},
   "outputs": [],
   "source": [
    "# getting a subset of the data\n",
    "#df = df_wines.head().copy()\n",
    "#df\n",
    "\n",
    "# exploring columns\n",
    "#df.columns"
   ]
  },
  {
   "cell_type": "code",
   "execution_count": null,
   "metadata": {},
   "outputs": [],
   "source": [
    "# exploring columns\n",
    "#df.index"
   ]
  },
  {
   "cell_type": "code",
   "execution_count": null,
   "metadata": {},
   "outputs": [],
   "source": [
    "# Renaming the index\n",
    "#f.rename(index={0:'a',1:'b',2:'c',3:'d',4:'e'})"
   ]
  },
  {
   "cell_type": "code",
   "execution_count": null,
   "metadata": {},
   "outputs": [],
   "source": [
    "# Renaming some colomns\n",
    "#df.rename(columns={'country':'Country'})"
   ]
  },
  {
   "cell_type": "markdown",
   "metadata": {},
   "source": [
    "#### 6. Working with missing value\n",
    "While exploring your data, you will encounter some missing or null values.\n",
    "Missing data are represented by **None**, **NaT** of **np.nan**"
   ]
  },
  {
   "cell_type": "code",
   "execution_count": null,
   "metadata": {},
   "outputs": [],
   "source": [
    "# Identifying where we are some missing value\n",
    "#df_wines.isnull()"
   ]
  },
  {
   "cell_type": "code",
   "execution_count": null,
   "metadata": {},
   "outputs": [],
   "source": [
    "# removing missing values\n",
    "#df_wines.dropna()"
   ]
  },
  {
   "cell_type": "markdown",
   "metadata": {},
   "source": [
    "#### 7. Imputation, Selecting, Slicing, selecting, extracting"
   ]
  },
  {
   "cell_type": "markdown",
   "metadata": {},
   "source": [
    "First we are looking at feature engineering  "
   ]
  },
  {
   "cell_type": "code",
   "execution_count": null,
   "metadata": {},
   "outputs": [],
   "source": [
    "#df_wines['price']\n",
    "#df_wines[['price','winery']]"
   ]
  },
  {
   "cell_type": "code",
   "execution_count": null,
   "metadata": {},
   "outputs": [],
   "source": [
    "#df_wines.price.mean()\n",
    "#df_wines.price.isnull().sum()"
   ]
  },
  {
   "cell_type": "code",
   "execution_count": null,
   "metadata": {},
   "outputs": [],
   "source": [
    "#df_wines.price.fillna(df_wines.price.mean(),inplace=True)"
   ]
  },
  {
   "cell_type": "code",
   "execution_count": null,
   "metadata": {},
   "outputs": [],
   "source": [
    "#df_wines.price.isnull().sum()"
   ]
  },
  {
   "cell_type": "code",
   "execution_count": null,
   "metadata": {},
   "outputs": [],
   "source": [
    "#Further introspection into data\n",
    "#d_wines.country.value_counts()"
   ]
  },
  {
   "cell_type": "markdown",
   "metadata": {},
   "source": [
    "Slicing, selecting and extracting operations "
   ]
  },
  {
   "cell_type": "code",
   "execution_count": null,
   "metadata": {},
   "outputs": [],
   "source": [
    "# we saw earlier that we can get a spesific column \n",
    "#df_wines['price']"
   ]
  },
  {
   "cell_type": "code",
   "execution_count": null,
   "metadata": {},
   "outputs": [],
   "source": [
    "#df_wines[['price','winery']]"
   ]
  },
  {
   "cell_type": "markdown",
   "metadata": {},
   "source": [
    "- iloc: will locate data by numerical index\n",
    "- loc: will locate data by name"
   ]
  },
  {
   "cell_type": "code",
   "execution_count": null,
   "metadata": {},
   "outputs": [],
   "source": [
    "#df_wines.loc[1:10]"
   ]
  },
  {
   "cell_type": "code",
   "execution_count": null,
   "metadata": {},
   "outputs": [],
   "source": [
    "#df_wines.iloc[1:10]"
   ]
  },
  {
   "cell_type": "code",
   "execution_count": null,
   "metadata": {},
   "outputs": [],
   "source": [
    "#df_wines.loc[1:10,'country']"
   ]
  },
  {
   "cell_type": "markdown",
   "metadata": {},
   "source": [
    "#### 8. Filtering and applying functions"
   ]
  },
  {
   "cell_type": "markdown",
   "metadata": {},
   "source": [
    "Filtering"
   ]
  },
  {
   "cell_type": "code",
   "execution_count": null,
   "metadata": {},
   "outputs": [],
   "source": [
    "# let try to find all the wine that are produce in France\n",
    "#df_wines.country=='France'\n",
    "#df_wines[df_wines.country=='France']"
   ]
  },
  {
   "cell_type": "code",
   "execution_count": null,
   "metadata": {},
   "outputs": [],
   "source": [
    "# all the wine produce in France and in 'Champagne'\n",
    "#df_wines[(df_wines.country=='France') & (df_wines.region_1=='Champagne')]"
   ]
  },
  {
   "cell_type": "code",
   "execution_count": null,
   "metadata": {},
   "outputs": [],
   "source": [
    "# all the wines produced in California, Sonoma County, California-Oregon\n",
    "#df_wines[df_wines.region_1.isin(['California', 'Sonoma County', 'California-Oregon'])]"
   ]
  },
  {
   "cell_type": "markdown",
   "metadata": {},
   "source": [
    "Applying functions"
   ]
  },
  {
   "cell_type": "markdown",
   "metadata": {},
   "source": [
    "We want to create a new column where we categorize the rating of each wine"
   ]
  },
  {
   "cell_type": "code",
   "execution_count": null,
   "metadata": {},
   "outputs": [],
   "source": [
    "#df_wines.points.describe()"
   ]
  },
  {
   "cell_type": "code",
   "execution_count": null,
   "metadata": {},
   "outputs": [],
   "source": [
    "# def rating(wine_points):\n",
    "#     if wine_points >= :\n",
    "#         return \"Excellent\"        \n",
    "#     elif wine_points >=: \n",
    "#         return \"Good\"        \n",
    "#     elif wine_points >=:\n",
    "#         return \"Fair\"\n",
    "#     else:\n",
    "#         return \"Poor\"\n",
    "# df_wines['points_category'] = df_wines.points.apply(rating)"
   ]
  },
  {
   "cell_type": "code",
   "execution_count": null,
   "metadata": {},
   "outputs": [],
   "source": [
    "#df_wines.points_category.value_counts()"
   ]
  },
  {
   "cell_type": "markdown",
   "metadata": {},
   "source": [
    "#### 9. Brief ploting"
   ]
  },
  {
   "cell_type": "code",
   "execution_count": null,
   "metadata": {},
   "outputs": [],
   "source": [
    "#df_wines.plot(kind='scatter', x='points', y='price', title='Revenue (millions) vs Rating');"
   ]
  },
  {
   "cell_type": "code",
   "execution_count": null,
   "metadata": {},
   "outputs": [],
   "source": [
    "#df_wines.points.plot(kind='hist', title='Rating')"
   ]
  },
  {
   "cell_type": "markdown",
   "metadata": {},
   "source": [
    "# Bonus\n",
    "\n",
    "In this section we are going to review **2** applications.\n",
    "Each application will use all concepts covered earlier today."
   ]
  },
  {
   "cell_type": "markdown",
   "metadata": {},
   "source": [
    "## Basic stocks performance analysis\n",
    "In stocks investing, you need to be able to asset your perfromance. \n",
    "The basic way to do so, consite into looking at stock returns over a period of time.\n",
    "\n",
    "**Important**: Please go to *finnhub.io* to create a free API token. This API token will allow you to download the necessary data."
   ]
  },
  {
   "cell_type": "code",
   "execution_count": null,
   "metadata": {},
   "outputs": [],
   "source": [
    "import pandas as pd\n",
    "import numpy as np\n",
    "import datetime\n",
    "import numpy as np\n",
    "import requests\n",
    "#import matplotlib.pyplot as plt\n",
    "\n",
    "#Function to retrieve the price, the return and the log of returns of a security within a defined period of time\n",
    "# def get_closing_prices(security_id, start_date, end_date):\n",
    "    \n",
    "#     # string to connect to the API    \n",
    "#     api_str ='https://finnhub.io/api/v1/stock/candle?symbol={stock}&resolution=D&from={start_dt}&to={end_dt}&token='\n",
    "#     # sending the request\n",
    "#     r = requests.get(api_str.format(start_dt=start_date, end_dt = end_date, stock=security_id))\n",
    "#     data =r.json()\n",
    "    \n",
    "#     #Formating the date \n",
    "#     dates = [datetime.datetime.fromtimestamp(x).strftime('%Y-%m-%d') for x in data['t'] ]\n",
    "#     # getting the close prices\n",
    "#     df = pd.DataFrame(data['c'],dates, columns=[security_id+' close'])\n",
    "#     # calcualting the price change and the log of return \n",
    "#     df[security_id+' pct_change'] = df[security_id+' close'].pct_change()\n",
    "#     df[security_id+' log_ret'] = np.log(df[security_id+' close']) - np.log(df[security_id+' close'].shift(1))\n",
    "#     return df\n",
    "\n",
    "\n",
    "# security_list =['IBM', 'MSFT']\n",
    "# start_dt = 1572651390\n",
    "# end_dt = 1575243390\n",
    "\n",
    "# data = [ get_closing_prices(sec, start_dt, end_dt) for sec in security_list]\n",
    "# df_portfolio = pd.concat(data,axis=1)\n",
    "\n",
    "# cum_prod_dat = (1+ df_portfolio[['IBM log_ret','MSFT log_ret']]).cumprod() -1"
   ]
  },
  {
   "cell_type": "code",
   "execution_count": null,
   "metadata": {},
   "outputs": [],
   "source": [
    "# Charting the results\n",
    "# cum_prod_dat.plot(kind='line', title='Rating')"
   ]
  },
  {
   "cell_type": "markdown",
   "metadata": {},
   "source": [
    "- [MSFT price chart on Yahoo finance](https://finance.yahoo.com/chart/MSFT#eyJpbnRlcnZhbCI6ImRheSIsInBlcmlvZGljaXR5IjoxLCJjYW5kbGVXaWR0aCI6NjYuNDIxMDUyNjMxNTc4OTUsImZsaXBwZWQiOmZhbHNlLCJ2b2x1bWVVbmRlcmxheSI6dHJ1ZSwiYWRqIjp0cnVlLCJjcm9zc2hhaXIiOnRydWUsImNoYXJ0VHlwZSI6ImxpbmUiLCJleHRlbmRlZCI6ZmFsc2UsIm1hcmtldFNlc3Npb25zIjp7fSwiYWdncmVnYXRpb25UeXBlIjoib2hsYyIsImNoYXJ0U2NhbGUiOiJsaW5lYXIiLCJzdHVkaWVzIjp7IuKAjHZvbCB1bmRy4oCMIjp7InR5cGUiOiJ2b2wgdW5kciIsImlucHV0cyI6eyJpZCI6IuKAjHZvbCB1bmRy4oCMIiwiZGlzcGxheSI6IuKAjHZvbCB1bmRy4oCMIn0sIm91dHB1dHMiOnsiVXAgVm9sdW1lIjoiIzAwYjA2MSIsIkRvd24gVm9sdW1lIjoiI2ZmMzMzYSJ9LCJwYW5lbCI6ImNoYXJ0IiwicGFyYW1ldGVycyI6eyJ3aWR0aEZhY3RvciI6MC40NSwiY2hhcnROYW1lIjoiY2hhcnQifX19LCJwYW5lbHMiOnsiY2hhcnQiOnsicGVyY2VudCI6MSwiZGlzcGxheSI6Ik1TRlQiLCJjaGFydE5hbWUiOiJjaGFydCIsImluZGV4IjowLCJ5QXhpcyI6eyJuYW1lIjoiY2hhcnQiLCJwb3NpdGlvbiI6bnVsbH0sInlheGlzTEhTIjpbXSwieWF4aXNSSFMiOlsiY2hhcnQiLCLigIx2b2wgdW5kcuKAjCJdfX0sImxpbmVXaWR0aCI6Miwic3RyaXBlZEJhY2tncm91bmQiOnRydWUsImV2ZW50cyI6dHJ1ZSwiY29sb3IiOiIjMDA4MWYyIiwic3RyaXBlZEJhY2tncm91ZCI6dHJ1ZSwiZXZlbnRNYXAiOnsiY29ycG9yYXRlIjp7ImRpdnMiOnRydWUsInNwbGl0cyI6dHJ1ZX0sInNpZ0RldiI6e319LCJyYW5nZSI6eyJkdExlZnQiOiIyMDE5LTExLTAzVDA3OjAwOjAwLjAwMFoiLCJkdFJpZ2h0IjoiMjAxOS0xMi0wMVQwNzo1OTowMC4wMDBaIiwicGVyaW9kaWNpdHkiOnsiaW50ZXJ2YWwiOiJkYXkiLCJwZXJpb2QiOjF9LCJwYWRkaW5nIjowfSwiY3VzdG9tUmFuZ2UiOnsic3RhcnQiOjE1NzI4NTQ0MDAwMDAsImVuZCI6MTU3NTAxNDQwMDAwMH0sInN5bWJvbHMiOlt7InN5bWJvbCI6Ik1TRlQiLCJzeW1ib2xPYmplY3QiOnsic3ltYm9sIjoiTVNGVCIsInF1b3RlVHlwZSI6IkVRVUlUWSIsImV4Y2hhbmdlVGltZVpvbmUiOiJBbWVyaWNhL05ld19Zb3JrIn0sInBlcmlvZGljaXR5IjoxLCJpbnRlcnZhbCI6ImRheSJ9XX0-)\n",
    "- [IBM prices chart on Yahoo finance](https://finance.yahoo.com/chart/IBM#eyJpbnRlcnZhbCI6ImRheSIsInBlcmlvZGljaXR5IjoxLCJjYW5kbGVXaWR0aCI6NzAuMzg4ODg4ODg4ODg4ODksImZsaXBwZWQiOmZhbHNlLCJ2b2x1bWVVbmRlcmxheSI6dHJ1ZSwiYWRqIjp0cnVlLCJjcm9zc2hhaXIiOnRydWUsImNoYXJ0VHlwZSI6ImxpbmUiLCJleHRlbmRlZCI6ZmFsc2UsIm1hcmtldFNlc3Npb25zIjp7fSwiYWdncmVnYXRpb25UeXBlIjoib2hsYyIsImNoYXJ0U2NhbGUiOiJsaW5lYXIiLCJwYW5lbHMiOnsiY2hhcnQiOnsicGVyY2VudCI6MSwiZGlzcGxheSI6IklCTSIsImNoYXJ0TmFtZSI6ImNoYXJ0IiwiaW5kZXgiOjAsInlBeGlzIjp7Im5hbWUiOiJjaGFydCIsInBvc2l0aW9uIjpudWxsfSwieWF4aXNMSFMiOltdLCJ5YXhpc1JIUyI6WyJjaGFydCIsIuKAjHZvbCB1bmRy4oCMIl19fSwibGluZVdpZHRoIjoyLCJzdHJpcGVkQmFja2dyb3VuZCI6dHJ1ZSwiZXZlbnRzIjp0cnVlLCJjb2xvciI6IiMwMDgxZjIiLCJzdHJpcGVkQmFja2dyb3VkIjp0cnVlLCJyYW5nZSI6eyJwZXJpb2RpY2l0eSI6eyJpbnRlcnZhbCI6ImRheSIsInBlcmlvZCI6MX0sImR0TGVmdCI6IjIwMTktMTEtMDRUMDg6MDA6MDAuMDAwWiIsImR0UmlnaHQiOiIyMDE5LTExLTI3VDA4OjAwOjAwLjAwMFoiLCJwYWRkaW5nIjowfSwiZXZlbnRNYXAiOnsiY29ycG9yYXRlIjp7ImRpdnMiOnRydWUsInNwbGl0cyI6dHJ1ZX0sInNpZ0RldiI6e319LCJjdXN0b21SYW5nZSI6eyJzdGFydCI6MTU3Mjg1NDQwMDAwMCwiZW5kIjoxNTc0NzU1MjAwMDAwfSwic3ltYm9scyI6W3sic3ltYm9sIjoiSUJNIiwic3ltYm9sT2JqZWN0Ijp7InN5bWJvbCI6IklCTSIsInF1b3RlVHlwZSI6IkVRVUlUWSIsImV4Y2hhbmdlVGltZVpvbmUiOiJBbWVyaWNhL05ld19Zb3JrIn0sInBlcmlvZGljaXR5IjoxLCJpbnRlcnZhbCI6ImRheSJ9XSwic3R1ZGllcyI6eyLigIx2b2wgdW5kcuKAjCI6eyJ0eXBlIjoidm9sIHVuZHIiLCJpbnB1dHMiOnsiaWQiOiLigIx2b2wgdW5kcuKAjCIsImRpc3BsYXkiOiLigIx2b2wgdW5kcuKAjCJ9LCJvdXRwdXRzIjp7IlVwIFZvbHVtZSI6IiMwMGIwNjEiLCJEb3duIFZvbHVtZSI6IiNmZjMzM2EifSwicGFuZWwiOiJjaGFydCIsInBhcmFtZXRlcnMiOnsid2lkdGhGYWN0b3IiOjAuNDUsImNoYXJ0TmFtZSI6ImNoYXJ0IiwicGFuZWxOYW1lIjoiY2hhcnQifX19fQ--)"
   ]
  },
  {
   "cell_type": "markdown",
   "metadata": {},
   "source": [
    "## Trying to identify good wine based on their characteristics"
   ]
  },
  {
   "cell_type": "markdown",
   "metadata": {},
   "source": [
    "Here we are going to use all the new knowledge that we have to try to predict the quality of a wine based on its characteristics.\n",
    "For this we are going to :\n",
    "    - Select the adequate data items to use in our analysis\n",
    "    - Update and create feature via features engineering\n",
    "    - Apply a clustering algorithm : K-means clustering\n",
    "    - Compare the results of our analysis with the existing data that we have"
   ]
  },
  {
   "cell_type": "markdown",
   "metadata": {},
   "source": [
    "**Scikit-learn** (formerly scikits.learn and also known as sklearn) is a free python Machine Learning library.\n",
    "[Main page](https://scikit-learn.org/stable/)"
   ]
  },
  {
   "cell_type": "code",
   "execution_count": null,
   "metadata": {},
   "outputs": [],
   "source": [
    "from sklearn.preprocessing import StandardScaler, LabelEncoder\n",
    "from sklearn.cluster import KMeans"
   ]
  },
  {
   "cell_type": "code",
   "execution_count": null,
   "metadata": {},
   "outputs": [],
   "source": [
    "# df_wines.info()"
   ]
  },
  {
   "cell_type": "code",
   "execution_count": null,
   "metadata": {},
   "outputs": [],
   "source": [
    "# Focusing on some specific information to try to predict the quality of a wine.\n",
    "# This is where you knowledge of the dat set and your experience as a data science is the most important\n",
    "# df_sub_wines =df_wines[['country', 'points', 'price', 'province', 'region_1', 'taster_name','variety']]"
   ]
  },
  {
   "cell_type": "code",
   "execution_count": null,
   "metadata": {},
   "outputs": [],
   "source": [
    "# Dropping the missing value to facilitate the analysis\n",
    "# df_sub_wines = df_sub_wines.dropna()"
   ]
  },
  {
   "cell_type": "code",
   "execution_count": null,
   "metadata": {},
   "outputs": [],
   "source": [
    "# Using the sklearn LabelEncoder to encode non numerical value into value between 0 and n_classes-1\n",
    "# Here is an improtnat part of the feature engineering.\n",
    "\n",
    "# labelencoder = LabelEncoder()\n",
    "# for x in df_sub_wines.columns:\n",
    "#     if df_sub_wines[x].dtype == 'object':\n",
    "#         df_sub_wines[x] = labelencoder.fit_transform(df_sub_wines[x])\n",
    "    "
   ]
  },
  {
   "cell_type": "markdown",
   "metadata": {},
   "source": [
    "**k-means** clustering is a method of vector quantization, originally from signal processing, that aims to partition n observations into k clusters in which each observation belongs to the cluster with the nearest mean, serving as a prototype of the cluster\n",
    "\n",
    "The **K-means** clustering algorithm is used to find groups which have not been explicitly labeled in the data. This can be used to confirm business assumptions about what types of groups exist or to identify unknown groups in complex data sets."
   ]
  },
  {
   "cell_type": "code",
   "execution_count": null,
   "metadata": {},
   "outputs": [],
   "source": [
    "# # Applying the K-means algorithm to our dat set\n",
    "# scaler = StandardScaler()\n",
    "# df_sub_wines_scaled = scaler.fit_transform(df_sub_wines)\n",
    "\n",
    "# n_cluster_selected = 4\n",
    "# kmeans = KMeans(n_clusters=n_cluster_selected, init='k-means++')\n",
    "# kmeans.fit(df_sub_wines_scaled)\n",
    "# pred = kmeans.predict(df_sub_wines_scaled)"
   ]
  },
  {
   "cell_type": "code",
   "execution_count": null,
   "metadata": {},
   "outputs": [],
   "source": [
    "# df_sub_wines.columns"
   ]
  },
  {
   "cell_type": "code",
   "execution_count": null,
   "metadata": {},
   "outputs": [],
   "source": [
    "# tmp = {\"Excellent\":3,\"Good\":2,\"Fair\":1,\"Poor\":0}\n",
    "# df_sub_wines['pred'] = pred\n",
    "# df_sub_wines['cat'] = [tmp[x] for x in df_wines.loc[df_sub_wines.index]['points_category']]"
   ]
  },
  {
   "cell_type": "code",
   "execution_count": null,
   "metadata": {},
   "outputs": [],
   "source": [
    "# df_sub_wines.plot.scatter(x='points',\n",
    "#                       y='price',\n",
    "#                       c='pred',\n",
    "#                       colormap='viridis')"
   ]
  },
  {
   "cell_type": "code",
   "execution_count": null,
   "metadata": {},
   "outputs": [],
   "source": [
    "# df_sub_wines.plot.scatter(x='points',\n",
    "#                       y='price',\n",
    "#                       c='cat',\n",
    "#                       colormap='viridis')"
   ]
  },
  {
   "cell_type": "code",
   "execution_count": null,
   "metadata": {},
   "outputs": [],
   "source": []
  }
 ],
 "metadata": {
  "kernelspec": {
   "display_name": "Python 3",
   "language": "python",
   "name": "python3"
  },
  "language_info": {
   "codemirror_mode": {
    "name": "ipython",
    "version": 3
   },
   "file_extension": ".py",
   "mimetype": "text/x-python",
   "name": "python",
   "nbconvert_exporter": "python",
   "pygments_lexer": "ipython3",
   "version": "3.6.5"
  }
 },
 "nbformat": 4,
 "nbformat_minor": 4
}
